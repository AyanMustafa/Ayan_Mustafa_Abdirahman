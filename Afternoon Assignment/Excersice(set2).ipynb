{
 "cells": [
  {
   "cell_type": "code",
   "execution_count": 1,
   "id": "1f211521",
   "metadata": {},
   "outputs": [],
   "source": [
    "import pandas as pd\n",
    "\n",
    "# 1. Compare elements of two series\n",
    "series1 = pd.Series([4, 65, 436, 3, 9])\n",
    "series2 = pd.Series([7, 0, 3, 897, 9])\n",
    "comparison = {\n",
    "    \"Equal\": series1 == series2,\n",
    "    \"Greater\": series1 > series2,\n",
    "    \"Less\": series1 < series2\n",
    "}"
   ]
  },
  {
   "cell_type": "code",
   "execution_count": 4,
   "id": "7fecdd49",
   "metadata": {},
   "outputs": [
    {
     "name": "stdout",
     "output_type": "stream",
     "text": [
      "Comparison Results:\n",
      "Equal:\n",
      "0    False\n",
      "1    False\n",
      "2    False\n",
      "3    False\n",
      "4     True\n",
      "dtype: bool\n",
      "\n",
      "Greater:\n",
      "0    False\n",
      "1     True\n",
      "2     True\n",
      "3    False\n",
      "4    False\n",
      "dtype: bool\n",
      "\n",
      "Less:\n",
      "0     True\n",
      "1    False\n",
      "2    False\n",
      "3     True\n",
      "4    False\n",
      "dtype: bool\n",
      "\n"
     ]
    }
   ],
   "source": [
    "# 2. Arithmetic operations on two series\n",
    "series3 = pd.Series([2, 4, 6, 8, 14])\n",
    "series4 = pd.Series([1, 3, 5, 7, 9])\n",
    "arithmetic = {\n",
    "    \"Addition\": series3 + series4,\n",
    "    \"Subtraction\": series3 - series4,\n",
    "    \"Multiplication\": series3 * series4,\n",
    "    \"Division\": series3 / series4\n",
    "}\n",
    "print(\"Comparison Results:\")\n",
    "for key, value in comparison.items():\n",
    "    print(f\"{key}:\\n{value}\\n\")"
   ]
  },
  {
   "cell_type": "code",
   "execution_count": 3,
   "id": "7c286683",
   "metadata": {},
   "outputs": [
    {
     "name": "stdout",
     "output_type": "stream",
     "text": [
      "Series from dictionary:\n",
      "Josh       24\n",
      "Sam        36\n",
      "Peace      19\n",
      "Charles    65\n",
      "Tom        44\n",
      "dtype: int64\n"
     ]
    }
   ],
   "source": [
    "# 3. Convert dictionary to series\n",
    "dictionary1 = {'Josh': 24, 'Sam': 36, 'Peace': 19, 'Charles': 65, 'Tom': 44}\n",
    "series_from_dict = pd.Series(dictionary1)\n",
    "print(\"Series from dictionary:\")\n",
    "print(series_from_dict)"
   ]
  },
  {
   "cell_type": "code",
   "execution_count": 5,
   "id": "653103af",
   "metadata": {},
   "outputs": [
    {
     "name": "stdout",
     "output_type": "stream",
     "text": [
      "\n",
      "Array from series:\n",
      "['Love' 800 'Joy' 789.9 'Peace' True]\n"
     ]
    }
   ],
   "source": [
    "# 4. Convert series to array\n",
    "series5 = pd.Series(['Love', 800, 'Joy', 789.9, 'Peace', True])\n",
    "array_from_series = series5.to_numpy()\n",
    "print(\"\\nArray from series:\")\n",
    "print(array_from_series)"
   ]
  }
 ],
 "metadata": {
  "kernelspec": {
   "display_name": "base",
   "language": "python",
   "name": "python3"
  },
  "language_info": {
   "codemirror_mode": {
    "name": "ipython",
    "version": 3
   },
   "file_extension": ".py",
   "mimetype": "text/x-python",
   "name": "python",
   "nbconvert_exporter": "python",
   "pygments_lexer": "ipython3",
   "version": "3.12.7"
  }
 },
 "nbformat": 4,
 "nbformat_minor": 5
}
